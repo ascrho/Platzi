{
 "cells": [
  {
   "cell_type": "code",
   "execution_count": 4,
   "metadata": {},
   "outputs": [
    {
     "name": "stdout",
     "output_type": "stream",
     "text": [
      "La Conexion fue exitosa!!!\n",
      "('PostgreSQL 15.4 (Debian 15.4-1.pgdg120+1) on x86_64-pc-linux-gnu, compiled by gcc (Debian 12.2.0-14) 12.2.0, 64-bit',)\n",
      "Vuelta 0, se agregaron al archivo .sql 1000000 registros, y se han cargado 1000000 registros de 6216353 iniciales.\n",
      "Vuelta 1, se agregaron al archivo .sql 1000000 registros, y se han cargado 2000000 registros de 6216353 iniciales.\n",
      "Vuelta 2, se agregaron al archivo .sql 1000000 registros, y se han cargado 3000000 registros de 6216353 iniciales.\n",
      "Vuelta 3, se agregaron al archivo .sql 1000000 registros, y se han cargado 4000000 registros de 6216353 iniciales.\n",
      "Vuelta 4, se agregaron al archivo .sql 1000000 registros, y se han cargado 5000000 registros de 6216353 iniciales.\n",
      "Vuelta 5, se agregaron al archivo .sql 1000000 registros, y se han cargado 6000000 registros de 6216353 iniciales.\n",
      "Vuelta 6, se agregaron al archivo .sql 216353 registros, y se han cargado 6216353 registros de 6216353 iniciales.\n",
      "Conexion Cerrada!!!\n"
     ]
    }
   ],
   "source": [
    "import Conn_postgresql as connPOSGRE\n",
    "import math as mt\n",
    "\n",
    "#Abre la conexion a la BD\n",
    "conn = connPOSGRE.ConnPOSGRESQL()\n",
    "\n",
    "#Permite ejecutar una sentencia SQL\n",
    "cursor = conn.cursor()\n",
    "cursor.execute(\"select version()\")\n",
    "#Almaceca el resultado de la consulta en la variable row y lo imprime, fetchone toma el primer registro\n",
    "row=cursor.fetchone()\n",
    "print(row)\n",
    "\n",
    "ruta = 'C:\\\\Users\\\\marco\\\\OneDrive\\\\Escritorio\\\\Platzi\\\\Fundamentos de ETL con Python y Pentaho\\\\Herramientas\\\\postgres_public_trades.sql'\n",
    "rutaC = 'C:\\\\Users\\\\marco\\\\OneDrive\\\\Escritorio\\\\Platzi\\\\Fundamentos de ETL con Python y Pentaho\\\\Notebooks\\\\trades.sql'\n",
    "ruta_sql = 'C:\\\\Users\\\\marco\\\\OneDrive\\\\Escritorio\\\\Platzi\\\\Fundamentos de ETL con Python y Pentaho\\\\Notebooks\\\\postgres_public_trades.sql'\n",
    "lista1 = []\n",
    "modreg1 = 0\n",
    "num = 0\n",
    "contmodreg = 0\n",
    "reg = 1000000\n",
    "\n",
    "#Crea la tabla \"trades\" si no existe a traves del scrip sql \"trades.sql\"\n",
    "with open(rutaC,'r') as file:\n",
    "    data = file.read()\n",
    "    cursor.execute(data)\n",
    "    conn.commit()\n",
    "\n",
    "#Borra los registros en caso de que tenga\n",
    "cursor.execute(\"delete from trades;\")\n",
    "\n",
    "#Busca el archivo con los mas de 6MM de registros y los carga en la lista \"lista1\"\n",
    "with open(ruta,'r') as file:\n",
    "    for line in file:\n",
    "        data = line\n",
    "        lista1.append(data)\n",
    "\n",
    "#Divide la cantidad de registros entre 1MM para definir la cantidad de ciclos a ejecutar\n",
    "modreg1 = mt.ceil(len(lista1)/reg)\n",
    "\n",
    "#Este flujo divide en listas de 1MM y fraccion hasta llegar al total de registros existentes en la lista \"lista1\"\n",
    "for i in range(modreg1):\n",
    "    listan1 = []\n",
    "    \n",
    "    #Llena una lista de paso \"listan1\" con los registros de la lista \"lista1\", en relacion al valor indicado en la variable \"reg\", que es de 1MM\n",
    "    for i in range(reg):\n",
    "        if num < len(lista1):\n",
    "            listan1.append(lista1[i])\n",
    "            num+= 1\n",
    "        else:\n",
    "            break\n",
    "\n",
    "    #Crea un archivo script sql, con los registros contenidos en la lista de paso\n",
    "    with open(ruta_sql, \"w\") as output:\n",
    "        output.write(\"insert into public.trades (country_code, year, comm_code, flow, trade_usd, kg, quantity, quantity_name) values \")\n",
    "        for i in range(len(listan1) -1):\n",
    "            output.write(f\"{str(listan1[i])[2:-2]},\")\n",
    "\n",
    "        output.write(f\"{str(listan1[len(listan1)-1])[2:-2]}\")\n",
    "\n",
    "    #Ejecuta el cript SQL\n",
    "    with open(ruta_sql,'r') as file:\n",
    "        data = file.read()\n",
    "        cursor.execute(data)\n",
    "        conn.commit()\n",
    "\n",
    "    #Informa sobre los ciclos de ejecucion\n",
    "    print(f\"Vuelta {contmodreg}, se agregaron al archivo .sql {len(listan1)} registros, y se han cargado {num} registros de {len(lista1)} iniciales.\")\n",
    "    contmodreg += 1\n",
    "\n",
    "#Cierra la conexion a la BD\n",
    "conn.close()\n",
    "print('Conexion Cerrada!!!')"
   ]
  },
  {
   "cell_type": "code",
   "execution_count": null,
   "metadata": {},
   "outputs": [],
   "source": [
    "import pandas as pd\n",
    "from sqlalchemy "
   ]
  }
 ],
 "metadata": {
  "kernelspec": {
   "display_name": "Python 3",
   "language": "python",
   "name": "python3"
  },
  "language_info": {
   "codemirror_mode": {
    "name": "ipython",
    "version": 3
   },
   "file_extension": ".py",
   "mimetype": "text/x-python",
   "name": "python",
   "nbconvert_exporter": "python",
   "pygments_lexer": "ipython3",
   "version": "3.11.5"
  },
  "orig_nbformat": 4
 },
 "nbformat": 4,
 "nbformat_minor": 2
}
